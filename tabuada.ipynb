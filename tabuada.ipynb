{
  "nbformat": 4,
  "nbformat_minor": 0,
  "metadata": {
    "colab": {
      "provenance": [],
      "authorship_tag": "ABX9TyMKyYENyPf2LIFIbmFTDuQ5",
      "include_colab_link": true
    },
    "kernelspec": {
      "name": "python3",
      "display_name": "Python 3"
    },
    "language_info": {
      "name": "python"
    }
  },
  "cells": [
    {
      "cell_type": "markdown",
      "metadata": {
        "id": "view-in-github",
        "colab_type": "text"
      },
      "source": [
        "<a href=\"https://colab.research.google.com/github/rodrigopcarvalho/tabuada/blob/main/tabuada.ipynb\" target=\"_parent\"><img src=\"https://colab.research.google.com/assets/colab-badge.svg\" alt=\"Open In Colab\"/></a>"
      ]
    },
    {
      "cell_type": "code",
      "execution_count": null,
      "metadata": {
        "id": "I0r5hSW6zbbh"
      },
      "outputs": [],
      "source": [
        "n = int(input('Digite o Número que você deseja a Tabuada: '))\n",
        "\n",
        "for i in range(11):\n",
        "    print(n, 'x', i, '=', n*i)\n"
      ]
    },
    {
      "cell_type": "code",
      "source": [
        "# Transformando o codigo da tabuada em uma função.\n",
        "\n",
        "def tabuada(n):\n",
        "    for i in range(11):\n",
        "        print(n, 'x', i, '=', n*i)"
      ],
      "metadata": {
        "id": "hnMMmP_i6ey2"
      },
      "execution_count": null,
      "outputs": []
    },
    {
      "cell_type": "code",
      "source": [
        "# Usando .format\n",
        "\n",
        "def tabuada(n):\n",
        "    for i in range(11):\n",
        "        print('{} x {:2} = {}'.format(n, i, n*i))"
      ],
      "metadata": {
        "id": "P2kGfdkmJmUJ"
      },
      "execution_count": 3,
      "outputs": []
    },
    {
      "cell_type": "code",
      "source": [
        "tabuada(2)"
      ],
      "metadata": {
        "colab": {
          "base_uri": "https://localhost:8080/"
        },
        "id": "IdH9ibaaJ6nt",
        "outputId": "9036dc24-f3c8-48e7-8bec-388fcc633dca"
      },
      "execution_count": 4,
      "outputs": [
        {
          "output_type": "stream",
          "name": "stdout",
          "text": [
            "2 x  0 = 0\n",
            "2 x  1 = 2\n",
            "2 x  2 = 4\n",
            "2 x  3 = 6\n",
            "2 x  4 = 8\n",
            "2 x  5 = 10\n",
            "2 x  6 = 12\n",
            "2 x  7 = 14\n",
            "2 x  8 = 16\n",
            "2 x  9 = 18\n",
            "2 x 10 = 20\n"
          ]
        }
      ]
    }
  ]
}